{
 "cells": [
  {
   "cell_type": "code",
   "execution_count": 4,
   "metadata": {
    "collapsed": true
   },
   "outputs": [],
   "source": [
    "# Dependencies\n",
    "import requests as req\n"
   ]
  },
  {
   "cell_type": "code",
   "execution_count": 13,
   "metadata": {
    "collapsed": true
   },
   "outputs": [],
   "source": [
    "\n",
    "# Performing a GET Request and saving the API's response within a variable\n",
    "url = \"https://api.spacexdata.com/v2/rockets/falcon9\"\n",
    "response = req.get(url)\n",
    "response_json = response.json()\n"
   ]
  },
  {
   "cell_type": "code",
   "execution_count": 14,
   "metadata": {
    "collapsed": false
   },
   "outputs": [
    {
     "name": "stdout",
     "output_type": "stream",
     "text": [
      "61200000\n",
      "[{'name': 'Low Earth Orbit', 'id': 'leo', 'kg': 22800, 'lb': 50265}, {'name': 'Geosynchronous Transfer Orbit', 'id': 'gto', 'kg': 8300, 'lb': 18300}, {'name': 'Mars Orbit', 'id': 'mars', 'kg': 4020, 'lb': 8860}]\n",
      "There are 3 payloads.\n",
      "The first payload weighed 22800 Kilograms\n"
     ]
    }
   ],
   "source": [
    "\n",
    "# It is possible to grab a specific value from within the JSON object\n",
    "print(response_json[\"cost_per_launch\"])\n",
    "\n",
    "print(response_json['payload_weights'])\n",
    "# It is also possible to perform some analyses on values stored within the JSON object\n",
    "print(\"There are \" + str((len(response_json[\"payload_weights\"]))) + \" payloads.\")\n",
    "\n",
    "# Finally, it is possible to reference the values stored within sub-dictionaries and sub-lists\n",
    "print(\"The first payload weighed \" + str(response_json[\"payload_weights\"][0][\"kg\"]) + \" Kilograms\")"
   ]
  },
  {
   "cell_type": "code",
   "execution_count": null,
   "metadata": {
    "collapsed": true
   },
   "outputs": [],
   "source": []
  }
 ],
 "metadata": {
  "kernelspec": {
   "display_name": "Python 3",
   "language": "python",
   "name": "python3"
  },
  "language_info": {
   "codemirror_mode": {
    "name": "ipython",
    "version": 3
   },
   "file_extension": ".py",
   "mimetype": "text/x-python",
   "name": "python",
   "nbconvert_exporter": "python",
   "pygments_lexer": "ipython3",
   "version": "3.5.3"
  }
 },
 "nbformat": 4,
 "nbformat_minor": 0
}
