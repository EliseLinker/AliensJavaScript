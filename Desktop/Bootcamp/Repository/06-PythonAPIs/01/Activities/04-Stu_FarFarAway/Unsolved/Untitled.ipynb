{
 "cells": [
  {
   "cell_type": "code",
   "execution_count": 4,
   "metadata": {
    "collapsed": false
   },
   "outputs": [
    {
     "data": {
      "text/plain": [
       "{'birth_year': '41.9BBY',\n",
       " 'created': '2014-12-10T15:18:20.704000Z',\n",
       " 'edited': '2014-12-20T21:17:50.313000Z',\n",
       " 'eye_color': 'yellow',\n",
       " 'films': ['https://swapi.co/api/films/2/',\n",
       "  'https://swapi.co/api/films/6/',\n",
       "  'https://swapi.co/api/films/3/',\n",
       "  'https://swapi.co/api/films/1/'],\n",
       " 'gender': 'male',\n",
       " 'hair_color': 'none',\n",
       " 'height': '202',\n",
       " 'homeworld': 'https://swapi.co/api/planets/1/',\n",
       " 'mass': '136',\n",
       " 'name': 'Darth Vader',\n",
       " 'skin_color': 'white',\n",
       " 'species': ['https://swapi.co/api/species/1/'],\n",
       " 'starships': ['https://swapi.co/api/starships/13/'],\n",
       " 'url': 'https://swapi.co/api/people/4/',\n",
       " 'vehicles': []}"
      ]
     },
     "execution_count": 4,
     "metadata": {},
     "output_type": "execute_result"
    }
   ],
   "source": [
    "# Dependencies\n",
    "import requests as req\n",
    "import json\n",
    "\n",
    "# URL for GET requests to retrieve Star Wars character data\n",
    "url = \"https://swapi.co/api/people/\"\n",
    "\n",
    "# Storing the JSON response within a variable\n",
    "response = req.get(url + '4').json()\n",
    "\n",
    "response\n"
   ]
  },
  {
   "cell_type": "code",
   "execution_count": null,
   "metadata": {
    "collapsed": true
   },
   "outputs": [],
   "source": [
    "# Collecting the name of the character collected\n",
    "\n",
    "# Counting how many films the character was in\n",
    "\n",
    "\n",
    "# Figure out what their first starship was\n",
    "\n",
    "\n",
    "# Print character name and how many films they were in\n",
    "\n",
    "# Print what their first ship was"
   ]
  },
  {
   "cell_type": "code",
   "execution_count": 8,
   "metadata": {
    "collapsed": false
   },
   "outputs": [
    {
     "name": "stdout",
     "output_type": "stream",
     "text": [
      "vader was my favorite 6 Star Warrior\n"
     ]
    }
   ],
   "source": [
    "# Collecting the name of the character collected\n",
    "x=\"vader\"\n",
    "print(\"%s was my favorite %d Star Warrior\"%(x,6))\n",
    "\n",
    "# Counting how many films the character was in\n",
    "\n",
    "\n",
    "# Figure out what their first starship was\n",
    "\n",
    "\n",
    "# Print character name and how many films they were in\n",
    "\n",
    "# Print what their first ship was"
   ]
  },
  {
   "cell_type": "code",
   "execution_count": 13,
   "metadata": {
    "collapsed": false
   },
   "outputs": [
    {
     "name": "stdout",
     "output_type": "stream",
     "text": [
      "Biggs Darklighter\n",
      "Biggs Darklighter was in 1 films\n",
      "Their first ship: X-wing\n"
     ]
    }
   ],
   "source": [
    "# Dependencies\n",
    "import requests as req\n",
    "import json\n",
    "\n",
    "# URL for GET requests to retrieve Star Wars character data\n",
    "url = \"https://swapi.co/api/people/\"\n",
    "\n",
    "# Storing the JSON response within a variable\n",
    "response = req.get(url + '9').json()\n",
    "\n",
    "# Collecting the name of the character collected\n",
    "character_name = response[\"name\"]\n",
    "print(character_name)\n",
    "# Counting how many films the character was in\n",
    "film_number = len(response[\"films\"])\n",
    "\n",
    "# Figure out what their first starship was\n",
    "first_ship_url = response[\"starships\"][0]\n",
    "ship_response = req.get(first_ship_url).json()\n",
    "first_ship = ship_response[\"name\"]\n",
    "\n",
    "# Print character name and how many films they were in\n",
    "print(character_name + \" was in \" + str(film_number) + \" films\")\n",
    "# Print what their first ship was\n",
    "print(\"Their first ship: \" + first_ship)"
   ]
  },
  {
   "cell_type": "code",
   "execution_count": null,
   "metadata": {
    "collapsed": true
   },
   "outputs": [],
   "source": []
  }
 ],
 "metadata": {
  "kernelspec": {
   "display_name": "Python 3",
   "language": "python",
   "name": "python3"
  },
  "language_info": {
   "codemirror_mode": {
    "name": "ipython",
    "version": 3
   },
   "file_extension": ".py",
   "mimetype": "text/x-python",
   "name": "python",
   "nbconvert_exporter": "python",
   "pygments_lexer": "ipython3",
   "version": "3.5.3"
  }
 },
 "nbformat": 4,
 "nbformat_minor": 0
}
