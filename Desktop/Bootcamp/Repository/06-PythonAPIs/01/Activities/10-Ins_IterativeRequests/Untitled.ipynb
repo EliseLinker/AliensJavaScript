{
 "cells": [
  {
   "cell_type": "code",
   "execution_count": 1,
   "metadata": {
    "collapsed": false
   },
   "outputs": [
    {
     "name": "stdout",
     "output_type": "stream",
     "text": [
      "Making request number 0 for ID 43.\n",
      "Making request number 1 for ID 2.\n",
      "Making request number 2 for ID 23.\n",
      "Making request number 3 for ID 64.\n",
      "Making request number 4 for ID 61.\n",
      "Making request number 5 for ID 42.\n",
      "Making request number 6 for ID 18.\n",
      "Making request number 7 for ID 25.\n",
      "Making request number 8 for ID 84.\n",
      "Making request number 9 for ID 88.\n",
      "We have 10 posts!\n"
     ]
    }
   ],
   "source": [
    "# Dependencies\n",
    "import random\n",
    "import json\n",
    "import requests\n",
    "\n",
    "# Let's get the JSON for 100 posts sequentially.\n",
    "url = \"http://jsonplaceholder.typicode.com/posts/\"\n",
    "response_json = []\n",
    "\n",
    "# Create random indices representing, for instance, a user's choice of posts\n",
    "indices = random.sample(list(range(1, 100)), 10)\n",
    "\n",
    "for i in range(0, len(indices)):\n",
    "    print(\"Making request number \" + str(i) +\n",
    "          \" for ID \" + str(indices[i]) + \".\")\n",
    "\n",
    "    # Get post #i\n",
    "    post_response = requests.get(url + str(indices[i]))\n",
    "\n",
    "    # Save post's JSON\n",
    "    response_json.append(post_response.json())\n",
    "\n",
    "# Now we have 10 post objects, which we got by making 100 requests to the API.\n",
    "print(\"We have \" + str(len(response_json)) + \" posts!\")\n"
   ]
  },
  {
   "cell_type": "code",
   "execution_count": 2,
   "metadata": {
    "collapsed": false
   },
   "outputs": [
    {
     "data": {
      "text/plain": [
       "{'body': 'id velit blanditiis\\neum ea voluptatem\\nmolestiae sint occaecati est eos perspiciatis\\nincidunt a error provident eaque aut aut qui',\n",
       " 'id': 64,\n",
       " 'title': 'et fugit quas eum in in aperiam quod',\n",
       " 'userId': 7}"
      ]
     },
     "execution_count": 2,
     "metadata": {},
     "output_type": "execute_result"
    }
   ],
   "source": [
    "response_json[3]"
   ]
  },
  {
   "cell_type": "code",
   "execution_count": 3,
   "metadata": {
    "collapsed": true
   },
   "outputs": [],
   "source": [
    "import pandas as pd"
   ]
  },
  {
   "cell_type": "code",
   "execution_count": 4,
   "metadata": {
    "collapsed": false
   },
   "outputs": [
    {
     "data": {
      "text/html": [
       "<div>\n",
       "<style>\n",
       "    .dataframe thead tr:only-child th {\n",
       "        text-align: right;\n",
       "    }\n",
       "\n",
       "    .dataframe thead th {\n",
       "        text-align: left;\n",
       "    }\n",
       "\n",
       "    .dataframe tbody tr th {\n",
       "        vertical-align: top;\n",
       "    }\n",
       "</style>\n",
       "<table border=\"1\" class=\"dataframe\">\n",
       "  <thead>\n",
       "    <tr style=\"text-align: right;\">\n",
       "      <th></th>\n",
       "      <th>body</th>\n",
       "      <th>id</th>\n",
       "      <th>title</th>\n",
       "      <th>userId</th>\n",
       "    </tr>\n",
       "  </thead>\n",
       "  <tbody>\n",
       "    <tr>\n",
       "      <th>0</th>\n",
       "      <td>similique fugit est\\nillum et dolorum harum et...</td>\n",
       "      <td>43</td>\n",
       "      <td>eligendi iste nostrum consequuntur adipisci pr...</td>\n",
       "      <td>5</td>\n",
       "    </tr>\n",
       "    <tr>\n",
       "      <th>1</th>\n",
       "      <td>est rerum tempore vitae\\nsequi sint nihil repr...</td>\n",
       "      <td>2</td>\n",
       "      <td>qui est esse</td>\n",
       "      <td>1</td>\n",
       "    </tr>\n",
       "    <tr>\n",
       "      <th>2</th>\n",
       "      <td>veritatis unde neque eligendi\\nquae quod archi...</td>\n",
       "      <td>23</td>\n",
       "      <td>maxime id vitae nihil numquam</td>\n",
       "      <td>3</td>\n",
       "    </tr>\n",
       "    <tr>\n",
       "      <th>3</th>\n",
       "      <td>id velit blanditiis\\neum ea voluptatem\\nmolest...</td>\n",
       "      <td>64</td>\n",
       "      <td>et fugit quas eum in in aperiam quod</td>\n",
       "      <td>7</td>\n",
       "    </tr>\n",
       "    <tr>\n",
       "      <th>4</th>\n",
       "      <td>ab nemo optio odio\\ndelectus tenetur corporis ...</td>\n",
       "      <td>61</td>\n",
       "      <td>voluptatem doloribus consectetur est ut ducimus</td>\n",
       "      <td>7</td>\n",
       "    </tr>\n",
       "    <tr>\n",
       "      <th>5</th>\n",
       "      <td>odio fugit voluptatum ducimus earum autem est ...</td>\n",
       "      <td>42</td>\n",
       "      <td>commodi ullam sint et excepturi error explicab...</td>\n",
       "      <td>5</td>\n",
       "    </tr>\n",
       "    <tr>\n",
       "      <th>6</th>\n",
       "      <td>eveniet quo quis\\nlaborum totam consequatur no...</td>\n",
       "      <td>18</td>\n",
       "      <td>voluptate et itaque vero tempora molestiae</td>\n",
       "      <td>2</td>\n",
       "    </tr>\n",
       "    <tr>\n",
       "      <th>7</th>\n",
       "      <td>ullam consequatur ut\\nomnis quis sit vel conse...</td>\n",
       "      <td>25</td>\n",
       "      <td>rem alias distinctio quo quis</td>\n",
       "      <td>3</td>\n",
       "    </tr>\n",
       "    <tr>\n",
       "      <th>8</th>\n",
       "      <td>sint molestiae magni a et quos\\neaque et quasi...</td>\n",
       "      <td>84</td>\n",
       "      <td>optio ipsam molestias necessitatibus occaecati...</td>\n",
       "      <td>9</td>\n",
       "    </tr>\n",
       "    <tr>\n",
       "      <th>9</th>\n",
       "      <td>consequatur omnis est praesentium\\nducimus non...</td>\n",
       "      <td>88</td>\n",
       "      <td>sapiente omnis fugit eos</td>\n",
       "      <td>9</td>\n",
       "    </tr>\n",
       "  </tbody>\n",
       "</table>\n",
       "</div>"
      ],
      "text/plain": [
       "                                                body  id  \\\n",
       "0  similique fugit est\\nillum et dolorum harum et...  43   \n",
       "1  est rerum tempore vitae\\nsequi sint nihil repr...   2   \n",
       "2  veritatis unde neque eligendi\\nquae quod archi...  23   \n",
       "3  id velit blanditiis\\neum ea voluptatem\\nmolest...  64   \n",
       "4  ab nemo optio odio\\ndelectus tenetur corporis ...  61   \n",
       "5  odio fugit voluptatum ducimus earum autem est ...  42   \n",
       "6  eveniet quo quis\\nlaborum totam consequatur no...  18   \n",
       "7  ullam consequatur ut\\nomnis quis sit vel conse...  25   \n",
       "8  sint molestiae magni a et quos\\neaque et quasi...  84   \n",
       "9  consequatur omnis est praesentium\\nducimus non...  88   \n",
       "\n",
       "                                               title  userId  \n",
       "0  eligendi iste nostrum consequuntur adipisci pr...       5  \n",
       "1                                       qui est esse       1  \n",
       "2                      maxime id vitae nihil numquam       3  \n",
       "3               et fugit quas eum in in aperiam quod       7  \n",
       "4    voluptatem doloribus consectetur est ut ducimus       7  \n",
       "5  commodi ullam sint et excepturi error explicab...       5  \n",
       "6         voluptate et itaque vero tempora molestiae       2  \n",
       "7                      rem alias distinctio quo quis       3  \n",
       "8  optio ipsam molestias necessitatibus occaecati...       9  \n",
       "9                           sapiente omnis fugit eos       9  "
      ]
     },
     "execution_count": 4,
     "metadata": {},
     "output_type": "execute_result"
    }
   ],
   "source": [
    "pd.DataFrame(response_json)"
   ]
  },
  {
   "cell_type": "code",
   "execution_count": null,
   "metadata": {
    "collapsed": true
   },
   "outputs": [],
   "source": []
  }
 ],
 "metadata": {
  "kernelspec": {
   "display_name": "Python 3",
   "language": "python",
   "name": "python3"
  },
  "language_info": {
   "codemirror_mode": {
    "name": "ipython",
    "version": 3
   },
   "file_extension": ".py",
   "mimetype": "text/x-python",
   "name": "python",
   "nbconvert_exporter": "python",
   "pygments_lexer": "ipython3",
   "version": "3.5.3"
  }
 },
 "nbformat": 4,
 "nbformat_minor": 0
}
