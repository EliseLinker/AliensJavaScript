{
 "cells": [
  {
   "cell_type": "code",
   "execution_count": 12,
   "metadata": {
    "collapsed": false,
    "scrolled": true
   },
   "outputs": [
    {
     "data": {
      "text/plain": [
       "dict_keys(['response', 'status', 'copyright'])"
      ]
     },
     "execution_count": 12,
     "metadata": {},
     "output_type": "execute_result"
    }
   ],
   "source": [
    "# Dependencies\n",
    "import requests as req\n",
    "\n",
    "url = \"https://api.nytimes.com/svc/search/v2/articlesearch.json?\"\n",
    "#api_key = \"164b73c522a8420c8e05343ef1da0a7e\"\n",
    "api_key = \"64bdfbe137354a55be774c3f6565968a\"\n",
    "# Search for articles that mention granola\n",
    "q = \"granola\"\n",
    "\n",
    "# Build query URL\n",
    "query = url + \"api-key=\" + api_key + \"&q=\" + q\n",
    "\n",
    "# Populate articles\n",
    "articles = req.get(query).json()\n",
    "\n",
    "articles.keys()"
   ]
  },
  {
   "cell_type": "code",
   "execution_count": 10,
   "metadata": {
    "collapsed": false
   },
   "outputs": [
    {
     "data": {
      "text/plain": [
       "dict_keys(['score', 'headline', 'blog', 'multimedia', 'web_url', 'section_name', 'keywords', 'snippet', '_id', 'document_type', 'word_count', 'type_of_material'])"
      ]
     },
     "execution_count": 10,
     "metadata": {},
     "output_type": "execute_result"
    }
   ],
   "source": [
    "# The \"response\" property in articles contains the actual articles\n",
    "# list comprehension.\n",
    "_articles = [article for article in articles[\"response\"][\"docs\"]]\n",
    "len(_articles)\n",
    "_articles[1].keys()"
   ]
  },
  {
   "cell_type": "code",
   "execution_count": 13,
   "metadata": {
    "collapsed": false
   },
   "outputs": [
    {
     "name": "stdout",
     "output_type": "stream",
     "text": [
      "Your Reading List\n",
      "\n",
      "18\n",
      "12\n",
      "12\n",
      "12\n",
      "16\n",
      "17\n",
      "17\n",
      "16\n",
      "18\n",
      "17\n"
     ]
    }
   ],
   "source": [
    "# Proof articles stored\n",
    "print(\"Your Reading List\\n\")\n",
    "for article in _articles:\n",
    "    print(len(article))"
   ]
  },
  {
   "cell_type": "code",
   "execution_count": null,
   "metadata": {
    "collapsed": true
   },
   "outputs": [],
   "source": []
  }
 ],
 "metadata": {
  "kernelspec": {
   "display_name": "Python 3",
   "language": "python",
   "name": "python3"
  },
  "language_info": {
   "codemirror_mode": {
    "name": "ipython",
    "version": 3
   },
   "file_extension": ".py",
   "mimetype": "text/x-python",
   "name": "python",
   "nbconvert_exporter": "python",
   "pygments_lexer": "ipython3",
   "version": "3.5.3"
  }
 },
 "nbformat": 4,
 "nbformat_minor": 0
}
