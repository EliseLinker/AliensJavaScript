{
 "cells": [
  {
   "cell_type": "code",
   "execution_count": 38,
   "metadata": {
    "collapsed": true
   },
   "outputs": [],
   "source": [
    "# Dependencies\n",
    "import requests as req\n",
    "import json\n",
    "\n",
    "# URL for GET requests to retrieve vehicle data\n",
    "url = \"https://api.spacexdata.com/v2/rockets/\"\n",
    "\n",
    "\n",
    "response = req.get(url).json()"
   ]
  },
  {
   "cell_type": "code",
   "execution_count": 40,
   "metadata": {},
   "outputs": [
    {
     "name": "stdout",
     "output_type": "stream",
     "text": [
      "Falcon 1\n",
      "Falcon 9\n",
      "Falcon Heavy\n"
     ]
    }
   ],
   "source": [
    "for resp in response:\n",
    "    print(resp['name'])"
   ]
  },
  {
   "cell_type": "code",
   "execution_count": 33,
   "metadata": {},
   "outputs": [
    {
     "name": "stdout",
     "output_type": "stream",
     "text": [
      "Falcon 9\n"
     ]
    },
    {
     "data": {
      "text/plain": [
       "{'engine_loss_max': 2,\n",
       " 'layout': 'octaweb',\n",
       " 'number': 9,\n",
       " 'propellant_1': 'liquid oxygen',\n",
       " 'propellant_2': 'RP-1 kerosene',\n",
       " 'thrust_sea_level': {'kN': 845, 'lbf': 190000},\n",
       " 'thrust_to_weight': 180.1,\n",
       " 'thrust_vacuum': {'kN': 914, 'lbf': 205500},\n",
       " 'type': 'merlin',\n",
       " 'version': '1D+'}"
      ]
     },
     "execution_count": 33,
     "metadata": {},
     "output_type": "execute_result"
    }
   ],
   "source": [
    "\n",
    "#print(json.dumps(response, indent=4, sort_keys=True))\n",
    "print(response[1]['name'])\n",
    "response[1]['engines']"
   ]
  },
  {
   "cell_type": "code",
   "execution_count": 10,
   "metadata": {},
   "outputs": [
    {
     "data": {
      "text/plain": [
       "'Falcon Heavy'"
      ]
     },
     "execution_count": 10,
     "metadata": {},
     "output_type": "execute_result"
    }
   ],
   "source": [
    "response['name']"
   ]
  },
  {
   "cell_type": "code",
   "execution_count": 12,
   "metadata": {},
   "outputs": [
    {
     "data": {
      "text/plain": [
       "dict"
      ]
     },
     "execution_count": 12,
     "metadata": {},
     "output_type": "execute_result"
    }
   ],
   "source": [
    "type(response['engines'])"
   ]
  },
  {
   "cell_type": "code",
   "execution_count": null,
   "metadata": {
    "collapsed": true
   },
   "outputs": [],
   "source": []
  }
 ],
 "metadata": {
  "kernelspec": {
   "display_name": "Python 3",
   "language": "python",
   "name": "python3"
  },
  "language_info": {
   "codemirror_mode": {
    "name": "ipython",
    "version": 3
   },
   "file_extension": ".py",
   "mimetype": "text/x-python",
   "name": "python",
   "nbconvert_exporter": "python",
   "pygments_lexer": "ipython3",
   "version": "3.6.3"
  }
 },
 "nbformat": 4,
 "nbformat_minor": 1
}
