{
 "cells": [
  {
   "cell_type": "code",
   "execution_count": 3,
   "metadata": {
    "collapsed": false
   },
   "outputs": [
    {
     "name": "stdout",
     "output_type": "stream",
     "text": [
      "{'Poster': 'https://images-na.ssl-images-amazon.com/images/M/MV5BYzVlMWViZGEtYjEyYy00YWZmLThmZGEtYmM4MDZlN2Q5MmRmXkEyXkFqcGdeQXVyMTQxNzMzNDI@._V1_SX300.jpg', 'Genre': 'Action, Adventure, Sci-Fi', 'DVD': '01 Jun 1999', 'Writer': \"James Cameron (story by), David Giler (story by), Walter Hill (story by), Dan O'Bannon (based on characters created by), Ronald Shusett (based on characters created by), James Cameron (screenplay by)\", 'Plot': 'Ellen Ripley is rescued by a deep salvage team after being hypersleep for 57 years. The moon that the Nostromo visited has been colonized, but contact is lost. This time, colonial marines have impressive firepower, but will that be enough?', 'Type': 'movie', 'Website': 'N/A', 'Title': 'Aliens', 'Actors': 'Sigourney Weaver, Carrie Henn, Michael Biehn, Paul Reiser', 'Production': '20th Century Fox Film Corporat', 'Country': 'USA', 'BoxOffice': 'N/A', 'Released': '18 Jul 1986', 'imdbRating': '8.4', 'Year': '1986', 'Metascore': '86', 'Director': 'James Cameron', 'Ratings': [{'Source': 'Internet Movie Database', 'Value': '8.4/10'}, {'Source': 'Rotten Tomatoes', 'Value': '98%'}, {'Source': 'Metacritic', 'Value': '86/100'}], 'Runtime': '137 min', 'Awards': 'Won 2 Oscars. Another 18 wins & 22 nominations.', 'Response': 'True', 'imdbVotes': '553,577', 'Rated': 'R', 'imdbID': 'tt0090605', 'Language': 'English'}\n",
      "Movie was directed by James Cameron\n",
      "Movie was released in USA\n"
     ]
    }
   ],
   "source": [
    "import requests\n",
    "import json\n",
    "\n",
    "# Note that the ?t= is a query param for the t-itle of the\n",
    "# movie we want to search for.\n",
    "url = \"http://www.omdbapi.com/?t=\"\n",
    "api_key = \"&apikey=40e9cece\"\n",
    "\n",
    "# Performing a GET request similar to the one we executed\n",
    "# earlier\n",
    "response = requests.get(url + \"Aliens\" + api_key)\n",
    "\n",
    "# Converting the response to JSON, and printing the result.\n",
    "json = response.json()\n",
    "print(json)\n",
    "\n",
    "# Print a few keys from the response JSON.\n",
    "print(\"Movie was directed by \" + json[\"Director\"])\n",
    "print(\"Movie was released in \" + json[\"Country\"])"
   ]
  },
  {
   "cell_type": "code",
   "execution_count": null,
   "metadata": {
    "collapsed": true
   },
   "outputs": [],
   "source": []
  }
 ],
 "metadata": {
  "kernelspec": {
   "display_name": "Python 3",
   "language": "python",
   "name": "python3"
  },
  "language_info": {
   "codemirror_mode": {
    "name": "ipython",
    "version": 3
   },
   "file_extension": ".py",
   "mimetype": "text/x-python",
   "name": "python",
   "nbconvert_exporter": "python",
   "pygments_lexer": "ipython3",
   "version": "3.5.3"
  }
 },
 "nbformat": 4,
 "nbformat_minor": 0
}
