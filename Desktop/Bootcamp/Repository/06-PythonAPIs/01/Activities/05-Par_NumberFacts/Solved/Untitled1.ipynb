{
 "cells": [
  {
   "cell_type": "code",
   "execution_count": 2,
   "metadata": {
    "collapsed": false
   },
   "outputs": [],
   "source": [
    "import requests as req\n",
    "import json\n",
    "\n",
    "url = \"https://api.coinmarketcap.com/v1/ticker/?limit=10\"\n"
   ]
  },
  {
   "cell_type": "code",
   "execution_count": 7,
   "metadata": {
    "collapsed": false
   },
   "outputs": [
    {
     "data": {
      "text/plain": [
       "[{'24h_volume_usd': '7874900000.0',\n",
       "  'available_supply': '16894487.0',\n",
       "  'id': 'bitcoin',\n",
       "  'last_updated': '1519956868',\n",
       "  'market_cap_usd': '188302573205',\n",
       "  'max_supply': '21000000.0',\n",
       "  'name': 'Bitcoin',\n",
       "  'percent_change_1h': '0.7',\n",
       "  'percent_change_24h': '6.86',\n",
       "  'percent_change_7d': '11.69',\n",
       "  'price_btc': '1.0',\n",
       "  'price_usd': '11145.8',\n",
       "  'rank': '1',\n",
       "  'symbol': 'BTC',\n",
       "  'total_supply': '16894487.0'},\n",
       " {'24h_volume_usd': '1947010000.0',\n",
       "  'available_supply': '97927576.0',\n",
       "  'id': 'ethereum',\n",
       "  'last_updated': '1519956854',\n",
       "  'market_cap_usd': '85821573500.0',\n",
       "  'max_supply': None,\n",
       "  'name': 'Ethereum',\n",
       "  'percent_change_1h': '0.6',\n",
       "  'percent_change_24h': '2.05',\n",
       "  'percent_change_7d': '6.35',\n",
       "  'price_btc': '0.0785993',\n",
       "  'price_usd': '876.378',\n",
       "  'rank': '2',\n",
       "  'symbol': 'ETH',\n",
       "  'total_supply': '97927576.0'},\n",
       " {'24h_volume_usd': '494305000.0',\n",
       "  'available_supply': '39094802192.0',\n",
       "  'id': 'ripple',\n",
       "  'last_updated': '1519956841',\n",
       "  'market_cap_usd': '36163552113.0',\n",
       "  'max_supply': '100000000000',\n",
       "  'name': 'Ripple',\n",
       "  'percent_change_1h': '0.01',\n",
       "  'percent_change_24h': '2.45',\n",
       "  'percent_change_7d': '-1.59',\n",
       "  'price_btc': '0.00008296',\n",
       "  'price_usd': '0.925022',\n",
       "  'rank': '3',\n",
       "  'symbol': 'XRP',\n",
       "  'total_supply': '99992622540.0'},\n",
       " {'24h_volume_usd': '501507000.0',\n",
       "  'available_supply': '16994800.0',\n",
       "  'id': 'bitcoin-cash',\n",
       "  'last_updated': '1519956853',\n",
       "  'market_cap_usd': '22134707312.0',\n",
       "  'max_supply': '21000000.0',\n",
       "  'name': 'Bitcoin Cash',\n",
       "  'percent_change_1h': '0.97',\n",
       "  'percent_change_24h': '7.81',\n",
       "  'percent_change_7d': '8.16',\n",
       "  'price_btc': '0.116812',\n",
       "  'price_usd': '1302.44',\n",
       "  'rank': '4',\n",
       "  'symbol': 'BCH',\n",
       "  'total_supply': '16994800.0'},\n",
       " {'24h_volume_usd': '680009000.0',\n",
       "  'available_supply': '55439433.0',\n",
       "  'id': 'litecoin',\n",
       "  'last_updated': '1519956841',\n",
       "  'market_cap_usd': '11771898357.0',\n",
       "  'max_supply': '84000000.0',\n",
       "  'name': 'Litecoin',\n",
       "  'percent_change_1h': '0.39',\n",
       "  'percent_change_24h': '4.18',\n",
       "  'percent_change_7d': '9.68',\n",
       "  'price_btc': '0.0190439',\n",
       "  'price_usd': '212.338',\n",
       "  'rank': '5',\n",
       "  'symbol': 'LTC',\n",
       "  'total_supply': '55439433.0'},\n",
       " {'24h_volume_usd': '236887000.0',\n",
       "  'available_supply': '65000000.0',\n",
       "  'id': 'neo',\n",
       "  'last_updated': '1519956848',\n",
       "  'market_cap_usd': '8364330000.0',\n",
       "  'max_supply': '100000000.0',\n",
       "  'name': 'NEO',\n",
       "  'percent_change_1h': '-0.33',\n",
       "  'percent_change_24h': '-0.93',\n",
       "  'percent_change_7d': '11.87',\n",
       "  'price_btc': '0.0115411',\n",
       "  'price_usd': '128.682',\n",
       "  'rank': '6',\n",
       "  'symbol': 'NEO',\n",
       "  'total_supply': '100000000.0'},\n",
       " {'24h_volume_usd': '186150000.0',\n",
       "  'available_supply': '25927070538.0',\n",
       "  'id': 'cardano',\n",
       "  'last_updated': '1519956855',\n",
       "  'market_cap_usd': '7747138312.0',\n",
       "  'max_supply': '45000000000.0',\n",
       "  'name': 'Cardano',\n",
       "  'percent_change_1h': '-0.55',\n",
       "  'percent_change_24h': '-1.65',\n",
       "  'percent_change_7d': '-10.18',\n",
       "  'price_btc': '0.00002680',\n",
       "  'price_usd': '0.298805',\n",
       "  'rank': '7',\n",
       "  'symbol': 'ADA',\n",
       "  'total_supply': '31112483745.0'},\n",
       " {'24h_volume_usd': '51883900.0',\n",
       "  'available_supply': '18468101089.0',\n",
       "  'id': 'stellar',\n",
       "  'last_updated': '1519956843',\n",
       "  'market_cap_usd': '6126663259.0',\n",
       "  'max_supply': None,\n",
       "  'name': 'Stellar',\n",
       "  'percent_change_1h': '-1.44',\n",
       "  'percent_change_24h': '-1.03',\n",
       "  'percent_change_7d': '-8.67',\n",
       "  'price_btc': '0.00002975',\n",
       "  'price_usd': '0.331743',\n",
       "  'rank': '8',\n",
       "  'symbol': 'XLM',\n",
       "  'total_supply': '103728679130'},\n",
       " {'24h_volume_usd': '224676000.0',\n",
       "  'available_supply': '701814705.0',\n",
       "  'id': 'eos',\n",
       "  'last_updated': '1519956851',\n",
       "  'market_cap_usd': '6043740493.0',\n",
       "  'max_supply': '1000000000.0',\n",
       "  'name': 'EOS',\n",
       "  'percent_change_1h': '-0.09',\n",
       "  'percent_change_24h': '2.16',\n",
       "  'percent_change_7d': '4.87',\n",
       "  'price_btc': '0.00077234',\n",
       "  'price_usd': '8.61159',\n",
       "  'rank': '9',\n",
       "  'symbol': 'EOS',\n",
       "  'total_supply': '900000000.0'},\n",
       " {'24h_volume_usd': '43096000.0',\n",
       "  'available_supply': '2779530283.0',\n",
       "  'id': 'iota',\n",
       "  'last_updated': '1519956851',\n",
       "  'market_cap_usd': '5580212791.0',\n",
       "  'max_supply': '2779530283.0',\n",
       "  'name': 'IOTA',\n",
       "  'percent_change_1h': '0.6',\n",
       "  'percent_change_24h': '7.78',\n",
       "  'percent_change_7d': '23.19',\n",
       "  'price_btc': '0.00018006',\n",
       "  'price_usd': '2.00761',\n",
       "  'rank': '10',\n",
       "  'symbol': 'MIOTA',\n",
       "  'total_supply': '2779530283.0'}]"
      ]
     },
     "execution_count": 7,
     "metadata": {},
     "output_type": "execute_result"
    }
   ],
   "source": [
    "r = req.get(url).json()\n",
    "r"
   ]
  },
  {
   "cell_type": "code",
   "execution_count": 10,
   "metadata": {
    "collapsed": false
   },
   "outputs": [
    {
     "name": "stdout",
     "output_type": "stream",
     "text": [
      "Bitcoin\n",
      "Ethereum\n",
      "Ripple\n",
      "Bitcoin Cash\n",
      "Litecoin\n",
      "NEO\n",
      "Cardano\n",
      "Stellar\n",
      "EOS\n",
      "IOTA\n"
     ]
    }
   ],
   "source": [
    "for name in r:\n",
    "    print(name['name'])"
   ]
  },
  {
   "cell_type": "code",
   "execution_count": null,
   "metadata": {
    "collapsed": true
   },
   "outputs": [],
   "source": []
  }
 ],
 "metadata": {
  "kernelspec": {
   "display_name": "Python 3",
   "language": "python",
   "name": "python3"
  },
  "language_info": {
   "codemirror_mode": {
    "name": "ipython",
    "version": 3
   },
   "file_extension": ".py",
   "mimetype": "text/x-python",
   "name": "python",
   "nbconvert_exporter": "python",
   "pygments_lexer": "ipython3",
   "version": "3.5.3"
  }
 },
 "nbformat": 4,
 "nbformat_minor": 0
}
