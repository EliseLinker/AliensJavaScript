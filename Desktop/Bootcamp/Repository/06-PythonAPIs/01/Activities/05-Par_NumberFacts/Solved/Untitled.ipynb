{
 "cells": [
  {
   "cell_type": "code",
   "execution_count": 2,
   "metadata": {
    "collapsed": false
   },
   "outputs": [
    {
     "name": "stdout",
     "output_type": "stream",
     "text": [
      "What type of data would you like to search for? [Trivia, Math, Date, or Year] Date\n",
      "What month would you like to search for? 4\n",
      "What day would you like to search for? 23\n",
      "April 23rd is the day in 1951 that American journalist William N. Oatis is arrested for espionage by the Communist government of Czechoslovakia.\n"
     ]
    }
   ],
   "source": [
    "# Dependencies\n",
    "import requests as req\n",
    "import json\n",
    "\n",
    "# Base URL for GET requests to retrieve number/date facts\n",
    "url = \"http://numbersapi.com/\"\n",
    "\n",
    "# Ask the user what kind of data they would like to search for\n",
    "kind_of_search = input(\"What type of data would you like to search for? [Trivia, Math, Date, or Year] \")\n",
    "\n",
    "# If the kind of search is \"date\" take in two numbers\n",
    "if(kind_of_search.lower() == \"date\"):\n",
    "\n",
    "  # Collect the month to search for\n",
    "  month = input(\"What month would you like to search for? \")\n",
    "  # Collect the day to search for\n",
    "  day = input(\"What day would you like to search for? \")\n",
    "\n",
    "  # Make an API call to the \"date\" API and convert response object to JSON\n",
    "  response = req.get(url + month + \"/\" + day + \"/\" +  kind_of_search.lower()+ \"?json\").json()\n",
    "  # Print the fact stored within the response\n",
    "  print(response[\"text\"])\n",
    "\n",
    "# If the kind of search is anything but \"date\" then take one number\n",
    "else:\n",
    "\n",
    "  # Collect the number to search for\n",
    "  number = input(\"What number would you like to search for? \")\n",
    "\n",
    "  # Make an API call to the API and convert response object to JSON\n",
    "  response = req.get(url + number + \"/\" +  kind_of_search.lower()+ \"?json\").json()\n",
    "  # Print the fact stored within the response\n",
    "  print(response[\"text\"])"
   ]
  },
  {
   "cell_type": "code",
   "execution_count": 22,
   "metadata": {
    "collapsed": false
   },
   "outputs": [
    {
     "data": {
      "text/plain": [
       "{'found': True,\n",
       " 'number': 98,\n",
       " 'text': '98 is the temperature (F) of the normal body.',\n",
       " 'type': 'trivia'}"
      ]
     },
     "execution_count": 22,
     "metadata": {},
     "output_type": "execute_result"
    }
   ],
   "source": [
    "# Dependencies\n",
    "import requests as req\n",
    "import json\n",
    "\n",
    "# Base URL for GET requests to retrieve number/date facts\n",
    "number = 98\n",
    "choice = \"trivia\"\n",
    "url = \"http://numbersapi.com/\"+ str(number)+ \"/\" + choice+\"?json\"\n",
    "r = req.get(url)\n",
    "#print(r.text)\n",
    "r.json()"
   ]
  },
  {
   "cell_type": "code",
   "execution_count": null,
   "metadata": {
    "collapsed": true
   },
   "outputs": [],
   "source": []
  }
 ],
 "metadata": {
  "kernelspec": {
   "display_name": "Python 3",
   "language": "python",
   "name": "python3"
  },
  "language_info": {
   "codemirror_mode": {
    "name": "ipython",
    "version": 3
   },
   "file_extension": ".py",
   "mimetype": "text/x-python",
   "name": "python",
   "nbconvert_exporter": "python",
   "pygments_lexer": "ipython3",
   "version": "3.5.3"
  }
 },
 "nbformat": 4,
 "nbformat_minor": 0
}
