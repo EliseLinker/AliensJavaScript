{
 "cells": [
  {
   "cell_type": "code",
   "execution_count": 4,
   "metadata": {},
   "outputs": [
    {
     "ename": "SyntaxError",
     "evalue": "invalid syntax (<ipython-input-4-0d226edb3913>, line 7)",
     "output_type": "error",
     "traceback": [
      "\u001b[1;36m  File \u001b[1;32m\"<ipython-input-4-0d226edb3913>\"\u001b[1;36m, line \u001b[1;32m7\u001b[0m\n\u001b[1;33m    Numbers API\u001b[0m\n\u001b[1;37m              ^\u001b[0m\n\u001b[1;31mSyntaxError\u001b[0m\u001b[1;31m:\u001b[0m invalid syntax\n"
     ]
    }
   ],
   "source": [
    "# Base URL for GET requests to retrieve number/date facts\n",
    "url = \"http://numbersapi.com/\"\n",
    "\n",
    "# Ask the user what kind of data they would like to search for\n",
    "kind_of_search = input(\"What type of data would you like to search for? [Trivia, Math, Date, or Year] \")\n",
    "numbersapi.com\n",
    "Numbers API\n",
    "#An API for interesting facts about numbers."
   ]
  },
  {
   "cell_type": "code",
   "execution_count": null,
   "metadata": {
    "collapsed": true
   },
   "outputs": [],
   "source": []
  }
 ],
 "metadata": {
  "kernelspec": {
   "display_name": "Python 3",
   "language": "python",
   "name": "python3"
  }
 },
 "nbformat": 4,
 "nbformat_minor": 2
}
