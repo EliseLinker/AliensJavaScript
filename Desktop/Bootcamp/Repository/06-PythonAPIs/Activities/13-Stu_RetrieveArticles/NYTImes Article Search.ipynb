{
 "cells": [
  {
   "cell_type": "code",
   "execution_count": 1,
   "metadata": {
    "collapsed": true
   },
   "outputs": [],
   "source": [
    "import requests as req\n",
    "import pandas as pd \n",
    "import json "
   ]
  },
  {
   "cell_type": "code",
   "execution_count": 16,
   "metadata": {},
   "outputs": [
    {
     "name": "stdout",
     "output_type": "stream",
     "text": [
      "https://api.nytimes.com/svc/search/v2/articlesearch.json?api-key=c2233e2ca5e240e18c77718f09267266&q=money\n"
     ]
    },
    {
     "data": {
      "text/plain": [
       "{'message': 'No API key found in headers or querystring'}"
      ]
     },
     "execution_count": 16,
     "metadata": {},
     "output_type": "execute_result"
    }
   ],
   "source": [
    "#base url and ? means everything after this is a query\n",
    "url = \"https://api.nytimes.com/svc/search/v2/articlesearch.json?\"\n",
    "api_key = \"c2233e2ca5e240e18c77718f09267266\"\n",
    "\n",
    "# Store a search term\n",
    "q = \"money\"\n",
    "\n",
    "# date range\n",
    "begin_date = \"20170516\"\n",
    "end_date = \"20170516\"\n",
    "\n",
    "# Build query URL\n",
    "query = url + \"api-key=\" + api_key + \"&q=\" + q\n",
    "print(query)\n",
    "# Build query URL\n",
    "#query = url + \"api-key=\" + api_key + \"&q=\" + q + \"&begin_date\" + begin_date + \"&end_date=\" + end_date\n",
    "\n",
    "#query = url + \"api-key=\" + api_key + \"&q=\" + q + \"&begin_date=\" + begin_date\\\n",
    "#    + \"&end_date=\" + end_date\n",
    "req.get(url).json()"
   ]
  },
  {
   "cell_type": "code",
   "execution_count": null,
   "metadata": {
    "collapsed": true
   },
   "outputs": [],
   "source": []
  }
 ],
 "metadata": {
  "kernelspec": {
   "display_name": "Python 3",
   "language": "python",
   "name": "python3"
  },
  "language_info": {
   "codemirror_mode": {
    "name": "ipython",
    "version": 3
   },
   "file_extension": ".py",
   "mimetype": "text/x-python",
   "name": "python",
   "nbconvert_exporter": "python",
   "pygments_lexer": "ipython3",
   "version": "3.6.3"
  }
 },
 "nbformat": 4,
 "nbformat_minor": 2
}
