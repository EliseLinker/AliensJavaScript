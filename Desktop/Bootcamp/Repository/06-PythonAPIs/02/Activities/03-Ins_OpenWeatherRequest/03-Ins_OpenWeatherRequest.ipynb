{
 "cells": [
  {
   "cell_type": "code",
   "execution_count": 1,
   "metadata": {
    "collapsed": true
   },
   "outputs": [],
   "source": [
    "# Dependencies\n",
    "import json\n",
    "import requests\n",
    "from config import api_key # uses a config file to hold the api-key"
   ]
  },
  {
   "cell_type": "code",
   "execution_count": 2,
   "metadata": {
    "collapsed": true
   },
   "outputs": [],
   "source": [
    "# Save config information\n",
    "url = \"http://api.openweathermap.org/data/2.5/weather?\"\n",
    "city = \"London\"\n",
    "\n",
    "# Build query URL\n",
    "query_url = url + \"appid=\" + api_key + \"&q=\" + city"
   ]
  },
  {
   "cell_type": "code",
   "execution_count": 5,
   "metadata": {},
   "outputs": [
    {
     "name": "stdout",
     "output_type": "stream",
     "text": [
      "The weather API responded with: {'coord': {'lon': -0.13, 'lat': 51.51}, 'weather': [{'id': 721, 'main': 'Haze', 'description': 'haze', 'icon': '50d'}, {'id': 701, 'main': 'Mist', 'description': 'mist', 'icon': '50d'}], 'base': 'stations', 'main': {'temp': 276.06, 'pressure': 992, 'humidity': 86, 'temp_min': 274.15, 'temp_max': 278.15}, 'visibility': 2800, 'wind': {'speed': 7.7, 'deg': 80}, 'clouds': {'all': 90}, 'dt': 1520092200, 'sys': {'type': 1, 'id': 5091, 'message': 0.0049, 'country': 'GB', 'sunrise': 1520059207, 'sunset': 1520099122}, 'id': 2643743, 'name': 'London', 'cod': 200}.\n",
      "{\"coord\": {\"lon\": -0.13, \"lat\": 51.51}, \"weather\": [{\"id\": 721, \"main\": \"Haze\", \"description\": \"haze\", \"icon\": \"50d\"}, {\"id\": 701, \"main\": \"Mist\", \"description\": \"mist\", \"icon\": \"50d\"}], \"base\": \"stations\", \"main\": {\"temp\": 276.06, \"pressure\": 992, \"humidity\": 86, \"temp_min\": 274.15, \"temp_max\": 278.15}, \"visibility\": 2800, \"wind\": {\"speed\": 7.7, \"deg\": 80}, \"clouds\": {\"all\": 90}, \"dt\": 1520092200, \"sys\": {\"type\": 1, \"id\": 5091, \"message\": 0.0049, \"country\": \"GB\", \"sunrise\": 1520059207, \"sunset\": 1520099122}, \"id\": 2643743, \"name\": \"London\", \"cod\": 200}\n"
     ]
    }
   ],
   "source": [
    "# Get weather data\n",
    "weather_response = requests.get(query_url)\n",
    "weather_json = weather_response.json()\n",
    "\n",
    "# Get the temperature from the response\n",
    "print(f\"The weather API responded with: {weather_json}.\")\n",
    "print(json.dumps(weather_json))\n"
   ]
  },
  {
   "cell_type": "code",
   "execution_count": 8,
   "metadata": {},
   "outputs": [
    {
     "data": {
      "text/plain": [
       "[{'description': 'haze', 'icon': '50d', 'id': 721, 'main': 'Haze'},\n",
       " {'description': 'mist', 'icon': '50d', 'id': 701, 'main': 'Mist'}]"
      ]
     },
     "execution_count": 8,
     "metadata": {},
     "output_type": "execute_result"
    }
   ],
   "source": [
    "weather_json.keys()\n",
    "weather_json['weather']"
   ]
  },
  {
   "cell_type": "code",
   "execution_count": 9,
   "metadata": {},
   "outputs": [
    {
     "data": {
      "text/plain": [
       "276.06"
      ]
     },
     "execution_count": 9,
     "metadata": {},
     "output_type": "execute_result"
    }
   ],
   "source": [
    "weather_json['main']['temp']"
   ]
  },
  {
   "cell_type": "code",
   "execution_count": null,
   "metadata": {
    "collapsed": true
   },
   "outputs": [],
   "source": []
  }
 ],
 "metadata": {
  "kernelspec": {
   "display_name": "Python 3",
   "language": "python",
   "name": "python3"
  },
  "language_info": {
   "codemirror_mode": {
    "name": "ipython",
    "version": 3
   },
   "file_extension": ".py",
   "mimetype": "text/x-python",
   "name": "python",
   "nbconvert_exporter": "python",
   "pygments_lexer": "ipython3",
   "version": "3.6.3"
  },
  "varInspector": {
   "cols": {
    "lenName": 16,
    "lenType": 16,
    "lenVar": 40
   },
   "kernels_config": {
    "python": {
     "delete_cmd_postfix": "",
     "delete_cmd_prefix": "del ",
     "library": "var_list.py",
     "varRefreshCmd": "print(var_dic_list())"
    },
    "r": {
     "delete_cmd_postfix": ") ",
     "delete_cmd_prefix": "rm(",
     "library": "var_list.r",
     "varRefreshCmd": "cat(var_dic_list()) "
    }
   },
   "types_to_exclude": [
    "module",
    "function",
    "builtin_function_or_method",
    "instance",
    "_Feature"
   ],
   "window_display": false
  }
 },
 "nbformat": 4,
 "nbformat_minor": 2
}
