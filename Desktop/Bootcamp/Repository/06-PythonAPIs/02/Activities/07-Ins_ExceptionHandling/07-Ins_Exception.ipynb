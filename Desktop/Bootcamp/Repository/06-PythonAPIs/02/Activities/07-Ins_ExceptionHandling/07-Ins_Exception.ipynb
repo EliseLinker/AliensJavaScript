{
 "cells": [
  {
   "cell_type": "code",
   "execution_count": 2,
   "metadata": {},
   "outputs": [
    {
     "name": "stdout",
     "output_type": "stream",
     "text": [
      "Jezebel doesnt exist as a key\n",
      "This line will never print.\n"
     ]
    }
   ],
   "source": [
    "students = {\n",
    "    # Name  : Age\n",
    "    \"James\": 27,\n",
    "    \"Sarah\": 19,\n",
    "    \"Jocelyn\": 28\n",
    "}\n",
    "try:\n",
    "    print(students[\"Jezebel\"])\n",
    "except:\n",
    "    print(\"Jezebel doesnt exist as a key\")\n",
    "\n",
    "print(\"This line will never print.\")"
   ]
  },
  {
   "cell_type": "code",
   "execution_count": null,
   "metadata": {
    "collapsed": true
   },
   "outputs": [],
   "source": []
  }
 ],
 "metadata": {
  "kernelspec": {
   "display_name": "Python 3",
   "language": "python",
   "name": "python3"
  }
 },
 "nbformat": 4,
 "nbformat_minor": 2
}
